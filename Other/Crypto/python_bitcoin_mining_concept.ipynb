{
 "cells": [
  {
   "cell_type": "markdown",
   "metadata": {},
   "source": [
    "# python bitcoin mining concept "
   ]
  },
  {
   "cell_type": "markdown",
   "metadata": {},
   "source": [
    "Credit: https://www.youtube.com/watch?v=ZhnJ1bkIWWk&list=WL&index=58&t=23s"
   ]
  },
  {
   "cell_type": "code",
   "execution_count": 1,
   "metadata": {},
   "outputs": [],
   "source": [
    "from hashlib import sha256"
   ]
  },
  {
   "cell_type": "code",
   "execution_count": 5,
   "metadata": {},
   "outputs": [
    {
     "data": {
      "text/plain": [
       "'b5d4045c3f466fa91fe2cc6abe79232a1a57cdf104f7a26e716e0a1e2789df78'"
      ]
     },
     "execution_count": 5,
     "metadata": {},
     "output_type": "execute_result"
    }
   ],
   "source": [
    "sha256(\"ABC\".encode('ascii')).hexdigest()"
   ]
  },
  {
   "cell_type": "code",
   "execution_count": 7,
   "metadata": {},
   "outputs": [
    {
     "name": "stdout",
     "output_type": "stream",
     "text": [
      "ba7816bf8f01cfea414140de5dae2223b00361a396177a9cb410ff61f20015ad\n"
     ]
    }
   ],
   "source": [
    "def sha(text):\n",
    "    return sha256(text.encode('ascii')).hexdigest()\n",
    "    \n",
    "print(sha('abc'))"
   ]
  },
  {
   "cell_type": "code",
   "execution_count": 10,
   "metadata": {},
   "outputs": [
    {
     "data": {
      "text/plain": [
       "True"
      ]
     },
     "execution_count": 10,
     "metadata": {},
     "output_type": "execute_result"
    }
   ],
   "source": [
    "# i want to first four digits to be 0 \n",
    "'0000asdasd'.startswith('0000')"
   ]
  },
  {
   "cell_type": "code",
   "execution_count": 23,
   "metadata": {},
   "outputs": [
    {
     "name": "stdout",
     "output_type": "stream",
     "text": [
      "yay\n",
      "19156\n",
      "000063582057e10db481a38627272308d669bd47bf31f2654efd1bc73386af41\n"
     ]
    }
   ],
   "source": [
    "MAX_NONCE = 1000000\n",
    "\n",
    "def mine(block_number, transactions,previous_hash, prefix_zeros): \n",
    "#     nonce = 1 \n",
    "    prefix_str='0'*prefix_zeros\n",
    "    for nonce in range(MAX_NONCE): \n",
    "\n",
    "        text = str(block_number) + transactions + previous_hash + str(nonce)\n",
    "        new_hash = sha(text)\n",
    "        # nonce have to \n",
    "        if new_hash.startswith(prefix_str):\n",
    "            print('yay')\n",
    "            print(nonce)\n",
    "            return new_hash\n",
    "    \n",
    "    raise BaseException('couldnt find anything')\n",
    "    \n",
    "\n",
    "transanctions=\"\"\"\n",
    "jason->kevin->20,\n",
    "devin->emily->45\n",
    "\"\"\"\n",
    "\n",
    "difficulty=4\n",
    "\n",
    "new_hash = mine(5\n",
    "                ,transanctions\n",
    "                ,'ba7816bf8f01cfea414140de5dae2223b00361a396177a9cb410ff61f20015ad'\n",
    "                ,difficulty\n",
    "               )\n",
    "\n",
    "print(new_hash)"
   ]
  },
  {
   "cell_type": "code",
   "execution_count": null,
   "metadata": {},
   "outputs": [],
   "source": [
    "#  current difficulty level = 20 "
   ]
  }
 ],
 "metadata": {
  "kernelspec": {
   "display_name": "Python 3",
   "language": "python",
   "name": "python3"
  },
  "language_info": {
   "codemirror_mode": {
    "name": "ipython",
    "version": 3
   },
   "file_extension": ".py",
   "mimetype": "text/x-python",
   "name": "python",
   "nbconvert_exporter": "python",
   "pygments_lexer": "ipython3",
   "version": "3.8.5"
  },
  "toc": {
   "base_numbering": 1,
   "nav_menu": {},
   "number_sections": true,
   "sideBar": true,
   "skip_h1_title": true,
   "title_cell": "Table of Contents",
   "title_sidebar": "Contents",
   "toc_cell": false,
   "toc_position": {},
   "toc_section_display": true,
   "toc_window_display": true
  }
 },
 "nbformat": 4,
 "nbformat_minor": 4
}
